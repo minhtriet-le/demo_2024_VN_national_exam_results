{
 "cells": [
  {
   "cell_type": "markdown",
   "id": "d83033ce",
   "metadata": {},
   "source": [
    "\n",
    "# Descriptive Analysis of Vietnam National High School Graduation Exam Scores (2024)\n",
    "\n",
    "This notebook provides a comprehensive descriptive analysis of the 2024 Vietnam National High School Graduation Exam scores. The objective is to explore the distributions, variability, and potential insights from the exam scores in major subjects, focusing on trends, deviation, and implications for higher education admissions.\n",
    "\n",
    "Dataset Source: Kaggle - [Vietnam National Exam 2024](https://www.kaggle.com/datasets/hakudan/im-thi-thpt-nm-2024)\n"
   ]
  },
  {
   "cell_type": "code",
   "execution_count": null,
   "id": "942f68ae",
   "metadata": {},
   "outputs": [],
   "source": [
    "\n",
    "import pandas as pd\n",
    "import numpy as np\n",
    "import matplotlib.pyplot as plt\n",
    "import seaborn as sns\n",
    "\n",
    "# Settings\n",
    "sns.set(style='whitegrid')\n",
    "plt.rcParams['figure.figsize'] = (10, 6)\n",
    "\n",
    "# Load dataset\n",
    "df = pd.read_csv(\"diem_thi_thpt_2024.csv\")\n",
    "df.head()\n"
   ]
  },
  {
   "cell_type": "markdown",
   "id": "2b19a792",
   "metadata": {},
   "source": [
    "## Basic Dataset Overview"
   ]
  },
  {
   "cell_type": "code",
   "execution_count": null,
   "id": "0e10310e",
   "metadata": {},
   "outputs": [],
   "source": [
    "\n",
    "df.info()\n"
   ]
  },
  {
   "cell_type": "markdown",
   "id": "d515d098",
   "metadata": {},
   "source": [
    "## Missing Values by Subject"
   ]
  },
  {
   "cell_type": "code",
   "execution_count": null,
   "id": "2f53f5e0",
   "metadata": {},
   "outputs": [],
   "source": [
    "\n",
    "df.isnull().sum().sort_values(ascending=False)\n"
   ]
  },
  {
   "cell_type": "markdown",
   "id": "aab1bf7a",
   "metadata": {},
   "source": [
    "## Summary Statistics of All Subjects"
   ]
  },
  {
   "cell_type": "code",
   "execution_count": null,
   "id": "4b9e62b9",
   "metadata": {},
   "outputs": [],
   "source": [
    "\n",
    "df.describe()\n"
   ]
  },
  {
   "cell_type": "markdown",
   "id": "4f06d446",
   "metadata": {},
   "source": [
    "## Distribution of Core Subject Scores"
   ]
  },
  {
   "cell_type": "code",
   "execution_count": null,
   "id": "d01afffd",
   "metadata": {},
   "outputs": [],
   "source": [
    "\n",
    "core_subjects = ['toan', 'ngu_van', 'ngoai_ngu']\n",
    "\n",
    "for subject in core_subjects:\n",
    "    sns.histplot(df[subject], bins=50, kde=True)\n",
    "    plt.title(f\"Distribution of {subject.title()} scores\")\n",
    "    plt.xlabel(\"Score\")\n",
    "    plt.ylabel(\"Frequency\")\n",
    "    plt.show()\n"
   ]
  },
  {
   "cell_type": "markdown",
   "id": "50122882",
   "metadata": {},
   "source": [
    "## Comparison Between Natural and Social Science Combinations"
   ]
  },
  {
   "cell_type": "code",
   "execution_count": null,
   "id": "8ff303f8",
   "metadata": {},
   "outputs": [],
   "source": [
    "\n",
    "# Count number of students who took each combination\n",
    "df['KHTN'] = df[['vat_li', 'hoa_hoc', 'sinh_hoc']].notnull().all(axis=1)\n",
    "df['KHXH'] = df[['lich_su', 'dia_li', 'gdcd']].notnull().all(axis=1)\n",
    "df[['KHTN', 'KHXH']].sum()\n"
   ]
  },
  {
   "cell_type": "markdown",
   "id": "806fba0a",
   "metadata": {},
   "source": [
    "## Score Distribution by Science Type (Boxplots)"
   ]
  },
  {
   "cell_type": "code",
   "execution_count": null,
   "id": "c4a3b0f7",
   "metadata": {},
   "outputs": [],
   "source": [
    "\n",
    "sns.boxplot(data=df[['toan', 'ngu_van', 'ngoai_ngu']])\n",
    "plt.title(\"Boxplot of Core Subject Scores\")\n",
    "plt.ylabel(\"Score\")\n",
    "plt.show()\n"
   ]
  },
  {
   "cell_type": "markdown",
   "id": "74032ea6",
   "metadata": {},
   "source": [
    "## Skewness and Standard Deviation Analysis"
   ]
  },
  {
   "cell_type": "code",
   "execution_count": null,
   "id": "9828a96d",
   "metadata": {},
   "outputs": [],
   "source": [
    "\n",
    "skew_std = pd.DataFrame({\n",
    "    'std_dev': df.std(),\n",
    "    'skewness': df.skew()\n",
    "}).dropna().sort_values(by='std_dev', ascending=False)\n",
    "skew_std\n"
   ]
  },
  {
   "cell_type": "markdown",
   "id": "cfdceeaa",
   "metadata": {},
   "source": [
    "## Correlation Heatmap Between Subjects"
   ]
  },
  {
   "cell_type": "code",
   "execution_count": null,
   "id": "1d0e92e3",
   "metadata": {},
   "outputs": [],
   "source": [
    "\n",
    "plt.figure(figsize=(10, 8))\n",
    "corr = df.corr()\n",
    "sns.heatmap(corr, annot=True, fmt=\".2f\", cmap='coolwarm')\n",
    "plt.title(\"Correlation Matrix of Subjects\")\n",
    "plt.show()\n"
   ]
  },
  {
   "cell_type": "markdown",
   "id": "0422b34c",
   "metadata": {},
   "source": [
    "\n",
    "## Key Insights and Implications\n",
    "\n",
    "- **Toán (Math)** scores show a relatively normal distribution with high participation.\n",
    "- **Ngữ Văn (Literature)** has lower skewness, indicating better centering around the mean.\n",
    "- **Ngoại Ngữ (Foreign Language)** shows higher standard deviation, suggesting wide variation in performance.\n",
    "- Many students opted for either Natural Sciences (KHTN) or Social Sciences (KHXH), not both.\n",
    "- Strong positive correlations are seen among Natural Science subjects, while Literature is less correlated.\n",
    "- The distribution suggests that the **difficulty level** of the 2024 exam was moderate, with few students scoring near the minimum or maximum, indicating good test differentiation.\n",
    "- Implications for university admissions:\n",
    "  - Highly competitive programs should consider score deviation and selectivity.\n",
    "  - Foreign language scores might be a strong differentiator due to their wide distribution.\n"
   ]
  }
 ],
 "metadata": {},
 "nbformat": 4,
 "nbformat_minor": 5
}
